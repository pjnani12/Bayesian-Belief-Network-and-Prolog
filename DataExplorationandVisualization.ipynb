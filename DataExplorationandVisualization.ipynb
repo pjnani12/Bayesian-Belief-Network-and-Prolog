{
 "cells": [
  {
   "cell_type": "code",
   "execution_count": 1,
   "metadata": {},
   "outputs": [],
   "source": [
    "import pandas as pd\n",
    "import numpy as np\n",
    "import seaborn as sns\n",
    "import matplotlib.pyplot as plt\n",
    "%matplotlib inline\n",
    "from sklearn.datasets import make_classification\n",
    "import warnings\n",
    "warnings.filterwarnings('ignore')\n"
   ]
  },
  {
   "cell_type": "markdown",
   "metadata": {},
   "source": [
    "## 1. Import the Data"
   ]
  },
  {
   "cell_type": "code",
   "execution_count": 2,
   "metadata": {},
   "outputs": [],
   "source": [
    "df = pd.read_csv('kohkiloyeh.csv')"
   ]
  },
  {
   "cell_type": "code",
   "execution_count": 3,
   "metadata": {},
   "outputs": [
    {
     "data": {
      "text/html": [
       "<div>\n",
       "<style scoped>\n",
       "    .dataframe tbody tr th:only-of-type {\n",
       "        vertical-align: middle;\n",
       "    }\n",
       "\n",
       "    .dataframe tbody tr th {\n",
       "        vertical-align: top;\n",
       "    }\n",
       "\n",
       "    .dataframe thead th {\n",
       "        text-align: right;\n",
       "    }\n",
       "</style>\n",
       "<table border=\"1\" class=\"dataframe\">\n",
       "  <thead>\n",
       "    <tr style=\"text-align: right;\">\n",
       "      <th></th>\n",
       "      <th>Degree</th>\n",
       "      <th>caprice</th>\n",
       "      <th>topic</th>\n",
       "      <th>lmt</th>\n",
       "      <th>lpss</th>\n",
       "      <th>pb</th>\n",
       "    </tr>\n",
       "  </thead>\n",
       "  <tbody>\n",
       "    <tr>\n",
       "      <th>0</th>\n",
       "      <td>high</td>\n",
       "      <td>left</td>\n",
       "      <td>impression</td>\n",
       "      <td>yes</td>\n",
       "      <td>yes</td>\n",
       "      <td>yes</td>\n",
       "    </tr>\n",
       "    <tr>\n",
       "      <th>1</th>\n",
       "      <td>high</td>\n",
       "      <td>left</td>\n",
       "      <td>political</td>\n",
       "      <td>yes</td>\n",
       "      <td>yes</td>\n",
       "      <td>yes</td>\n",
       "    </tr>\n",
       "    <tr>\n",
       "      <th>2</th>\n",
       "      <td>medium</td>\n",
       "      <td>middle</td>\n",
       "      <td>tourism</td>\n",
       "      <td>yes</td>\n",
       "      <td>yes</td>\n",
       "      <td>yes</td>\n",
       "    </tr>\n",
       "    <tr>\n",
       "      <th>3</th>\n",
       "      <td>high</td>\n",
       "      <td>left</td>\n",
       "      <td>political</td>\n",
       "      <td>yes</td>\n",
       "      <td>yes</td>\n",
       "      <td>yes</td>\n",
       "    </tr>\n",
       "    <tr>\n",
       "      <th>4</th>\n",
       "      <td>medium</td>\n",
       "      <td>middle</td>\n",
       "      <td>news</td>\n",
       "      <td>yes</td>\n",
       "      <td>yes</td>\n",
       "      <td>yes</td>\n",
       "    </tr>\n",
       "  </tbody>\n",
       "</table>\n",
       "</div>"
      ],
      "text/plain": [
       "   Degree caprice       topic  lmt lpss   pb\n",
       "0    high    left  impression  yes  yes  yes\n",
       "1    high    left   political  yes  yes  yes\n",
       "2  medium  middle     tourism  yes  yes  yes\n",
       "3    high    left   political  yes  yes  yes\n",
       "4  medium  middle        news  yes  yes  yes"
      ]
     },
     "execution_count": 3,
     "metadata": {},
     "output_type": "execute_result"
    }
   ],
   "source": [
    "df.head()"
   ]
  },
  {
   "cell_type": "markdown",
   "metadata": {},
   "source": [
    "## 2. Data Exploration"
   ]
  },
  {
   "cell_type": "code",
   "execution_count": 4,
   "metadata": {
    "scrolled": true
   },
   "outputs": [
    {
     "name": "stdout",
     "output_type": "stream",
     "text": [
      "Rows     :  100\n",
      "Columns  :  6\n",
      "\n",
      "Features : \n",
      " ['Degree', 'caprice', 'topic', 'lmt', 'lpss', 'pb']\n",
      "\n",
      "Missing values :   0\n",
      "\n",
      "Unique values :  \n",
      " Degree     3\n",
      "caprice    3\n",
      "topic      5\n",
      "lmt        2\n",
      "lpss       2\n",
      "pb         2\n",
      "dtype: int64\n"
     ]
    }
   ],
   "source": [
    "print (\"Rows     : \" , df.shape[0])\n",
    "print (\"Columns  : \" , df.shape[1])\n",
    "print (\"\\nFeatures : \\n\" ,df.columns.tolist())\n",
    "print (\"\\nMissing values :  \", df.isnull().sum().values.sum())\n",
    "print (\"\\nUnique values :  \\n\", df.nunique())"
   ]
  },
  {
   "cell_type": "markdown",
   "metadata": {},
   "source": [
    "### Dataset Description:\n",
    "\n",
    "###### 1. Degree : \n",
    "This attribute shows the education level of a blogger and has three values; \n",
    "            Low: for less educated people,\n",
    "            Medium: for B.Sc. level, and \n",
    "            High: for M.Sc. and Ph.D.\n",
    "\n",
    "###### 2. Caprice: \n",
    "(Political Caprice) : It shows political affiliation of a blogger It has also three values; \n",
    "            LEFT: Bloggers affiliated with reformists party, \n",
    "            MIDDLE: bloggers who have no political affiliations, and \n",
    "            RIGHT: bloggers affiliated with traditional conservative party.\n",
    "\n",
    "###### 3. Topics:  \n",
    "Bloggers are intended to blog in five areas named Impression, Political, Tourism, Scientific, and News.\n",
    "\n",
    "###### 4. LMT   :  \n",
    "(Local Media Turnover) This attribute has two possible values: Yes/ No. “Yes,” value is used for those bloggers who believe in local media effect on blogging and vice-versa.\n",
    "\n",
    "###### 5. LPSS  : \n",
    "(Local, Political and Social Space) This attribute has also Yes/No values. “Yes,” value is used to denote those bloggers who believe that local, social and political conditions affect blogging and vice-versa.\n",
    "\n",
    "###### 6. Pb    :  \n",
    "(Professional Blogger) It is target class with Yes/No values. “Yes” value denotes a professional blogger, and “No” value indicates a temporary blogger."
   ]
  },
  {
   "cell_type": "markdown",
   "metadata": {},
   "source": [
    "##### 2.1 Get the Summary of the Data se"
   ]
  },
  {
   "cell_type": "code",
   "execution_count": 5,
   "metadata": {},
   "outputs": [
    {
     "name": "stdout",
     "output_type": "stream",
     "text": [
      "medium    47\n",
      "high      39\n",
      "low       14\n",
      "Name: Degree, dtype: int64\n",
      "\n",
      "left      52\n",
      "right     34\n",
      "middle    14\n",
      "Name: caprice, dtype: int64\n",
      "\n",
      "political     35\n",
      "impression    24\n",
      "news          19\n",
      "tourism       15\n",
      "scientific     7\n",
      "Name: topic, dtype: int64\n",
      "\n",
      "yes    86\n",
      "no     14\n",
      "Name: lmt, dtype: int64\n",
      "\n",
      "yes    72\n",
      "no     28\n",
      "Name: lpss, dtype: int64\n",
      "\n",
      "yes    68\n",
      "no     32\n",
      "Name: pb, dtype: int64\n",
      "\n"
     ]
    }
   ],
   "source": [
    "for i in df.columns:\n",
    "    print(df[i].value_counts())\n",
    "    print()"
   ]
  },
  {
   "cell_type": "code",
   "execution_count": 6,
   "metadata": {},
   "outputs": [
    {
     "data": {
      "text/plain": [
       "array(['yes', 'no'], dtype=object)"
      ]
     },
     "execution_count": 6,
     "metadata": {},
     "output_type": "execute_result"
    }
   ],
   "source": [
    "# Target is \"pb\"\n",
    "df['pb'].unique()"
   ]
  },
  {
   "cell_type": "code",
   "execution_count": 7,
   "metadata": {},
   "outputs": [
    {
     "data": {
      "text/plain": [
       "<matplotlib.axes._subplots.AxesSubplot at 0x283dfcf308>"
      ]
     },
     "execution_count": 7,
     "metadata": {},
     "output_type": "execute_result"
    },
    {
     "data": {
      "image/png": "[encoded data removed]",
      "text/plain": [
       "<Figure size 432x288 with 1 Axes>"
      ]
     },
     "metadata": {},
     "output_type": "display_data"
    }
   ],
   "source": [
    "sns.set_style('whitegrid')\n",
    "sns.countplot(x='pb', data=df)"
   ]
  },
  {
   "cell_type": "markdown",
   "metadata": {},
   "source": [
    "* Date set consists of hundred instances among which sixty-eight\n",
    "   instances are positive and the remaining instances are negative.\n",
    "\n",
    "* Positive instances represent professional bloggers and negative\n",
    "    instances indicate non-professional/ seasonal bloggers"
   ]
  },
  {
   "cell_type": "markdown",
   "metadata": {},
   "source": [
    "##### 2.2 Plot the Features across Target Class"
   ]
  },
  {
   "cell_type": "code",
   "execution_count": 8,
   "metadata": {
    "scrolled": false
   },
   "outputs": [
    {
     "data": {
      "image/png": "[encoded data removed]",
      "text/plain": [
       "<Figure size 864x432 with 1 Axes>"
      ]
     },
     "metadata": {},
     "output_type": "display_data"
    },
    {
     "data": {
      "image/png": "[encoded data removed]",
      "text/plain": [
       "<Figure size 864x432 with 1 Axes>"
      ]
     },
     "metadata": {},
     "output_type": "display_data"
    },
    {
     "data": {
      "image/png": "[encoded data removed]",
      "text/plain": [
       "<Figure size 864x432 with 1 Axes>"
      ]
     },
     "metadata": {},
     "output_type": "display_data"
    },
    {
     "data": {
      "image/png": "[encoded data removed]",
      "text/plain": [
       "<Figure size 864x432 with 1 Axes>"
      ]
     },
     "metadata": {},
     "output_type": "display_data"
    },
    {
     "data": {
      "image/png": "[encoded data removed]",
      "text/plain": [
       "<Figure size 864x432 with 1 Axes>"
      ]
     },
     "metadata": {},
     "output_type": "display_data"
    }
   ],
   "source": [
    "for i in df.columns[:-1]:\n",
    "    plt.figure(figsize=(12,6))\n",
    "    plt.title(\"For feature '%s'\" %i)\n",
    "    sns.countplot(df[i],hue=df['pb'])"
   ]
  },
  {
   "cell_type": "markdown",
   "metadata": {},
   "source": [
    "## 3. Data Preprocessing"
   ]
  },
  {
   "cell_type": "markdown",
   "metadata": {},
   "source": [
    "##### 3.1 Convert Object to Integer Values"
   ]
  },
  {
   "cell_type": "code",
   "execution_count": 9,
   "metadata": {},
   "outputs": [
    {
     "data": {
      "text/html": [
       "<div>\n",
       "<style scoped>\n",
       "    .dataframe tbody tr th:only-of-type {\n",
       "        vertical-align: middle;\n",
       "    }\n",
       "\n",
       "    .dataframe tbody tr th {\n",
       "        vertical-align: top;\n",
       "    }\n",
       "\n",
       "    .dataframe thead th {\n",
       "        text-align: right;\n",
       "    }\n",
       "</style>\n",
       "<table border=\"1\" class=\"dataframe\">\n",
       "  <thead>\n",
       "    <tr style=\"text-align: right;\">\n",
       "      <th></th>\n",
       "      <th>Degree</th>\n",
       "      <th>caprice</th>\n",
       "      <th>topic</th>\n",
       "      <th>lmt</th>\n",
       "      <th>lpss</th>\n",
       "      <th>pb</th>\n",
       "    </tr>\n",
       "  </thead>\n",
       "  <tbody>\n",
       "    <tr>\n",
       "      <th>0</th>\n",
       "      <td>high</td>\n",
       "      <td>left</td>\n",
       "      <td>impression</td>\n",
       "      <td>yes</td>\n",
       "      <td>yes</td>\n",
       "      <td>yes</td>\n",
       "    </tr>\n",
       "    <tr>\n",
       "      <th>1</th>\n",
       "      <td>high</td>\n",
       "      <td>left</td>\n",
       "      <td>political</td>\n",
       "      <td>yes</td>\n",
       "      <td>yes</td>\n",
       "      <td>yes</td>\n",
       "    </tr>\n",
       "    <tr>\n",
       "      <th>2</th>\n",
       "      <td>medium</td>\n",
       "      <td>middle</td>\n",
       "      <td>tourism</td>\n",
       "      <td>yes</td>\n",
       "      <td>yes</td>\n",
       "      <td>yes</td>\n",
       "    </tr>\n",
       "    <tr>\n",
       "      <th>3</th>\n",
       "      <td>high</td>\n",
       "      <td>left</td>\n",
       "      <td>political</td>\n",
       "      <td>yes</td>\n",
       "      <td>yes</td>\n",
       "      <td>yes</td>\n",
       "    </tr>\n",
       "    <tr>\n",
       "      <th>4</th>\n",
       "      <td>medium</td>\n",
       "      <td>middle</td>\n",
       "      <td>news</td>\n",
       "      <td>yes</td>\n",
       "      <td>yes</td>\n",
       "      <td>yes</td>\n",
       "    </tr>\n",
       "  </tbody>\n",
       "</table>\n",
       "</div>"
      ],
      "text/plain": [
       "   Degree caprice       topic  lmt lpss   pb\n",
       "0    high    left  impression  yes  yes  yes\n",
       "1    high    left   political  yes  yes  yes\n",
       "2  medium  middle     tourism  yes  yes  yes\n",
       "3    high    left   political  yes  yes  yes\n",
       "4  medium  middle        news  yes  yes  yes"
      ]
     },
     "execution_count": 9,
     "metadata": {},
     "output_type": "execute_result"
    }
   ],
   "source": [
    "df.head()"
   ]
  },
  {
   "cell_type": "code",
   "execution_count": 10,
   "metadata": {},
   "outputs": [],
   "source": [
    "tdf = df.copy()"
   ]
  },
  {
   "cell_type": "markdown",
   "metadata": {},
   "source": [
    "#### 3.2 Encoding Data ( Factorization )"
   ]
  },
  {
   "cell_type": "code",
   "execution_count": 11,
   "metadata": {},
   "outputs": [],
   "source": [
    "df['Degree'],Degree = pd.factorize(df['Degree'])\n",
    "df['caprice'],caprice = pd.factorize(df['caprice'])\n",
    "df['topic'],topic = pd.factorize(df['topic'])\n",
    "df['lmt'],lmt = pd.factorize(df['lmt'])\n",
    "df['lpss'],lpss = pd.factorize(df['lpss'])\n",
    "df['pb'],pb = pd.factorize(df['pb'])"
   ]
  },
  {
   "cell_type": "code",
   "execution_count": 12,
   "metadata": {},
   "outputs": [
    {
     "name": "stdout",
     "output_type": "stream",
     "text": [
      "[0 1 2]\n",
      "Degree Index(['high', 'medium', 'low'], dtype='object')\n",
      "[0 1 2]\n",
      "caprice Index(['left', 'middle', 'right'], dtype='object')\n",
      "[0 1 2 3 4]\n",
      "topic Index(['impression', 'political', 'tourism', 'news', 'scientific'], dtype='object')\n",
      "[0 1]\n",
      "lmt Index(['yes', 'no'], dtype='object')\n",
      "[0 1]\n",
      "lpss Index(['yes', 'no'], dtype='object')\n",
      "[0 1]\n",
      "pb Index(['yes', 'no'], dtype='object')\n"
     ]
    }
   ],
   "source": [
    "print(df['Degree'].unique())\n",
    "print(\"Degree {}\".format(Degree))\n",
    "print(df['caprice'].unique())\n",
    "print(\"caprice {}\".format(caprice))\n",
    "print(df['topic'].unique())\n",
    "print(\"topic {}\".format(topic))\n",
    "print(df['lmt'].unique())\n",
    "print(\"lmt {}\".format(lmt))\n",
    "print(df['lpss'].unique())\n",
    "print(\"lpss {}\".format(lpss))\n",
    "print(df['pb'].unique())\n",
    "print(\"pb {}\".format(pb))"
   ]
  },
  {
   "cell_type": "markdown",
   "metadata": {},
   "source": [
    "## 4. Model Creating"
   ]
  },
  {
   "cell_type": "markdown",
   "metadata": {},
   "source": [
    "##### 4.1 Split Data X ( Features), y (Target)"
   ]
  },
  {
   "cell_type": "code",
   "execution_count": 13,
   "metadata": {},
   "outputs": [],
   "source": [
    "X = df.iloc[:, :5]\n",
    "\n",
    "y = df.iloc[:,-1]"
   ]
  },
  {
   "cell_type": "code",
   "execution_count": 14,
   "metadata": {},
   "outputs": [
    {
     "data": {
      "text/html": [
       "<div>\n",
       "<style scoped>\n",
       "    .dataframe tbody tr th:only-of-type {\n",
       "        vertical-align: middle;\n",
       "    }\n",
       "\n",
       "    .dataframe tbody tr th {\n",
       "        vertical-align: top;\n",
       "    }\n",
       "\n",
       "    .dataframe thead th {\n",
       "        text-align: right;\n",
       "    }\n",
       "</style>\n",
       "<table border=\"1\" class=\"dataframe\">\n",
       "  <thead>\n",
       "    <tr style=\"text-align: right;\">\n",
       "      <th></th>\n",
       "      <th>Degree</th>\n",
       "      <th>caprice</th>\n",
       "      <th>topic</th>\n",
       "      <th>lmt</th>\n",
       "      <th>lpss</th>\n",
       "    </tr>\n",
       "  </thead>\n",
       "  <tbody>\n",
       "    <tr>\n",
       "      <th>0</th>\n",
       "      <td>0</td>\n",
       "      <td>0</td>\n",
       "      <td>0</td>\n",
       "      <td>0</td>\n",
       "      <td>0</td>\n",
       "    </tr>\n",
       "    <tr>\n",
       "      <th>1</th>\n",
       "      <td>0</td>\n",
       "      <td>0</td>\n",
       "      <td>1</td>\n",
       "      <td>0</td>\n",
       "      <td>0</td>\n",
       "    </tr>\n",
       "    <tr>\n",
       "      <th>2</th>\n",
       "      <td>1</td>\n",
       "      <td>1</td>\n",
       "      <td>2</td>\n",
       "      <td>0</td>\n",
       "      <td>0</td>\n",
       "    </tr>\n",
       "    <tr>\n",
       "      <th>3</th>\n",
       "      <td>0</td>\n",
       "      <td>0</td>\n",
       "      <td>1</td>\n",
       "      <td>0</td>\n",
       "      <td>0</td>\n",
       "    </tr>\n",
       "    <tr>\n",
       "      <th>4</th>\n",
       "      <td>1</td>\n",
       "      <td>1</td>\n",
       "      <td>3</td>\n",
       "      <td>0</td>\n",
       "      <td>0</td>\n",
       "    </tr>\n",
       "  </tbody>\n",
       "</table>\n",
       "</div>"
      ],
      "text/plain": [
       "   Degree  caprice  topic  lmt  lpss\n",
       "0       0        0      0    0     0\n",
       "1       0        0      1    0     0\n",
       "2       1        1      2    0     0\n",
       "3       0        0      1    0     0\n",
       "4       1        1      3    0     0"
      ]
     },
     "execution_count": 14,
     "metadata": {},
     "output_type": "execute_result"
    }
   ],
   "source": [
    "X.head()"
   ]
  },
  {
   "cell_type": "code",
   "execution_count": 15,
   "metadata": {},
   "outputs": [
    {
     "data": {
      "text/plain": [
       "<matplotlib.axes._subplots.AxesSubplot at 0x2840998dc8>"
      ]
     },
     "execution_count": 15,
     "metadata": {},
     "output_type": "execute_result"
    },
    {
     "data": {
      "image/png": "[encoded data removed]",
      "text/plain": [
       "<Figure size 720x432 with 2 Axes>"
      ]
     },
     "metadata": {},
     "output_type": "display_data"
    }
   ],
   "source": [
    "#Plot Correlation\n",
    "plt.figure(figsize=(10,6))\n",
    "sns.heatmap(df.corr(), annot=True)"
   ]
  },
  {
   "cell_type": "markdown",
   "metadata": {},
   "source": [
    "### 4.2 Apply One Hot Encoding On Data"
   ]
  },
  {
   "cell_type": "code",
   "execution_count": 16,
   "metadata": {},
   "outputs": [
    {
     "data": {
      "text/html": [
       "<div>\n",
       "<style scoped>\n",
       "    .dataframe tbody tr th:only-of-type {\n",
       "        vertical-align: middle;\n",
       "    }\n",
       "\n",
       "    .dataframe tbody tr th {\n",
       "        vertical-align: top;\n",
       "    }\n",
       "\n",
       "    .dataframe thead th {\n",
       "        text-align: right;\n",
       "    }\n",
       "</style>\n",
       "<table border=\"1\" class=\"dataframe\">\n",
       "  <thead>\n",
       "    <tr style=\"text-align: right;\">\n",
       "      <th></th>\n",
       "      <th>Degree</th>\n",
       "      <th>caprice</th>\n",
       "      <th>topic</th>\n",
       "      <th>lmt</th>\n",
       "      <th>lpss</th>\n",
       "      <th>pb</th>\n",
       "    </tr>\n",
       "  </thead>\n",
       "  <tbody>\n",
       "    <tr>\n",
       "      <th>0</th>\n",
       "      <td>high</td>\n",
       "      <td>left</td>\n",
       "      <td>impression</td>\n",
       "      <td>yes</td>\n",
       "      <td>yes</td>\n",
       "      <td>yes</td>\n",
       "    </tr>\n",
       "    <tr>\n",
       "      <th>1</th>\n",
       "      <td>high</td>\n",
       "      <td>left</td>\n",
       "      <td>political</td>\n",
       "      <td>yes</td>\n",
       "      <td>yes</td>\n",
       "      <td>yes</td>\n",
       "    </tr>\n",
       "    <tr>\n",
       "      <th>2</th>\n",
       "      <td>medium</td>\n",
       "      <td>middle</td>\n",
       "      <td>tourism</td>\n",
       "      <td>yes</td>\n",
       "      <td>yes</td>\n",
       "      <td>yes</td>\n",
       "    </tr>\n",
       "    <tr>\n",
       "      <th>3</th>\n",
       "      <td>high</td>\n",
       "      <td>left</td>\n",
       "      <td>political</td>\n",
       "      <td>yes</td>\n",
       "      <td>yes</td>\n",
       "      <td>yes</td>\n",
       "    </tr>\n",
       "    <tr>\n",
       "      <th>4</th>\n",
       "      <td>medium</td>\n",
       "      <td>middle</td>\n",
       "      <td>news</td>\n",
       "      <td>yes</td>\n",
       "      <td>yes</td>\n",
       "      <td>yes</td>\n",
       "    </tr>\n",
       "  </tbody>\n",
       "</table>\n",
       "</div>"
      ],
      "text/plain": [
       "   Degree caprice       topic  lmt lpss   pb\n",
       "0    high    left  impression  yes  yes  yes\n",
       "1    high    left   political  yes  yes  yes\n",
       "2  medium  middle     tourism  yes  yes  yes\n",
       "3    high    left   political  yes  yes  yes\n",
       "4  medium  middle        news  yes  yes  yes"
      ]
     },
     "execution_count": 16,
     "metadata": {},
     "output_type": "execute_result"
    }
   ],
   "source": [
    "tdf.head()"
   ]
  },
  {
   "cell_type": "code",
   "execution_count": 17,
   "metadata": {},
   "outputs": [],
   "source": [
    "XTdf = tdf.iloc[:, :5]\n",
    "\n",
    "ytdf = tdf.iloc[:,-1]\n",
    "\n"
   ]
  },
  {
   "cell_type": "code",
   "execution_count": 18,
   "metadata": {},
   "outputs": [],
   "source": [
    "XD = pd.get_dummies(XTdf,drop_first=True)"
   ]
  },
  {
   "cell_type": "code",
   "execution_count": 19,
   "metadata": {},
   "outputs": [
    {
     "data": {
      "text/html": [
       "<div>\n",
       "<style scoped>\n",
       "    .dataframe tbody tr th:only-of-type {\n",
       "        vertical-align: middle;\n",
       "    }\n",
       "\n",
       "    .dataframe tbody tr th {\n",
       "        vertical-align: top;\n",
       "    }\n",
       "\n",
       "    .dataframe thead th {\n",
       "        text-align: right;\n",
       "    }\n",
       "</style>\n",
       "<table border=\"1\" class=\"dataframe\">\n",
       "  <thead>\n",
       "    <tr style=\"text-align: right;\">\n",
       "      <th></th>\n",
       "      <th>Degree_low</th>\n",
       "      <th>Degree_medium</th>\n",
       "      <th>caprice_middle</th>\n",
       "      <th>caprice_right</th>\n",
       "      <th>topic_news</th>\n",
       "      <th>topic_political</th>\n",
       "      <th>topic_scientific</th>\n",
       "      <th>topic_tourism</th>\n",
       "      <th>lmt_yes</th>\n",
       "      <th>lpss_yes</th>\n",
       "    </tr>\n",
       "  </thead>\n",
       "  <tbody>\n",
       "    <tr>\n",
       "      <th>0</th>\n",
       "      <td>0</td>\n",
       "      <td>0</td>\n",
       "      <td>0</td>\n",
       "      <td>0</td>\n",
       "      <td>0</td>\n",
       "      <td>0</td>\n",
       "      <td>0</td>\n",
       "      <td>0</td>\n",
       "      <td>1</td>\n",
       "      <td>1</td>\n",
       "    </tr>\n",
       "    <tr>\n",
       "      <th>1</th>\n",
       "      <td>0</td>\n",
       "      <td>0</td>\n",
       "      <td>0</td>\n",
       "      <td>0</td>\n",
       "      <td>0</td>\n",
       "      <td>1</td>\n",
       "      <td>0</td>\n",
       "      <td>0</td>\n",
       "      <td>1</td>\n",
       "      <td>1</td>\n",
       "    </tr>\n",
       "    <tr>\n",
       "      <th>2</th>\n",
       "      <td>0</td>\n",
       "      <td>1</td>\n",
       "      <td>1</td>\n",
       "      <td>0</td>\n",
       "      <td>0</td>\n",
       "      <td>0</td>\n",
       "      <td>0</td>\n",
       "      <td>1</td>\n",
       "      <td>1</td>\n",
       "      <td>1</td>\n",
       "    </tr>\n",
       "    <tr>\n",
       "      <th>3</th>\n",
       "      <td>0</td>\n",
       "      <td>0</td>\n",
       "      <td>0</td>\n",
       "      <td>0</td>\n",
       "      <td>0</td>\n",
       "      <td>1</td>\n",
       "      <td>0</td>\n",
       "      <td>0</td>\n",
       "      <td>1</td>\n",
       "      <td>1</td>\n",
       "    </tr>\n",
       "    <tr>\n",
       "      <th>4</th>\n",
       "      <td>0</td>\n",
       "      <td>1</td>\n",
       "      <td>1</td>\n",
       "      <td>0</td>\n",
       "      <td>1</td>\n",
       "      <td>0</td>\n",
       "      <td>0</td>\n",
       "      <td>0</td>\n",
       "      <td>1</td>\n",
       "      <td>1</td>\n",
       "    </tr>\n",
       "  </tbody>\n",
       "</table>\n",
       "</div>"
      ],
      "text/plain": [
       "   Degree_low  Degree_medium  caprice_middle  caprice_right  topic_news  \\\n",
       "0           0              0               0              0           0   \n",
       "1           0              0               0              0           0   \n",
       "2           0              1               1              0           0   \n",
       "3           0              0               0              0           0   \n",
       "4           0              1               1              0           1   \n",
       "\n",
       "   topic_political  topic_scientific  topic_tourism  lmt_yes  lpss_yes  \n",
       "0                0                 0              0        1         1  \n",
       "1                1                 0              0        1         1  \n",
       "2                0                 0              1        1         1  \n",
       "3                1                 0              0        1         1  \n",
       "4                0                 0              0        1         1  "
      ]
     },
     "execution_count": 19,
     "metadata": {},
     "output_type": "execute_result"
    }
   ],
   "source": [
    "XD.head()"
   ]
  },
  {
   "cell_type": "markdown",
   "metadata": {},
   "source": [
    "### 4.5 Apply Decision Tree CART algorithm on One Hot Encoded Data"
   ]
  },
  {
   "cell_type": "code",
   "execution_count": 20,
   "metadata": {},
   "outputs": [],
   "source": [
    "from sklearn.model_selection import train_test_split\n",
    "from sklearn.tree import DecisionTreeClassifier\n",
    "from sklearn import tree\n",
    "from sklearn.metrics import confusion_matrix, accuracy_score, classification_report\n",
    "XD_train, XD_test, yd_train, yd_test = train_test_split(XD, ytdf, test_size=0.30, random_state=9)\n",
    "#dctree = DecisionTreeClassifier(criterion='gini', max_depth=6)"
   ]
  },
  {
   "cell_type": "code",
   "execution_count": 21,
   "metadata": {},
   "outputs": [],
   "source": [
    "dctree = DecisionTreeClassifier(max_depth=5)"
   ]
  },
  {
   "cell_type": "code",
   "execution_count": 22,
   "metadata": {},
   "outputs": [],
   "source": [
    "dtree = dctree.fit(XD, ytdf)\n",
    "#dtree = dctree.fit(one_hot_data, y)"
   ]
  },
  {
   "cell_type": "code",
   "execution_count": 23,
   "metadata": {},
   "outputs": [
    {
     "name": "stdout",
     "output_type": "stream",
     "text": [
      "Predicted values:\n",
      "Confusion Matrix:  [[22 10]\n",
      " [ 0 68]]\n",
      "Accuracy :  90.0\n",
      "Report :                precision    recall  f1-score   support\n",
      "\n",
      "          no       1.00      0.69      0.81        32\n",
      "         yes       0.87      1.00      0.93        68\n",
      "\n",
      "    accuracy                           0.90       100\n",
      "   macro avg       0.94      0.84      0.87       100\n",
      "weighted avg       0.91      0.90      0.89       100\n",
      "\n"
     ]
    }
   ],
   "source": [
    "dctree_pred = dtree.predict(XD) \n",
    "print(\"Predicted values:\") \n",
    "dctree_pred\n",
    "\n",
    "print(\"Confusion Matrix: \", confusion_matrix(ytdf, dctree_pred)) \n",
    "      \n",
    "print (\"Accuracy : \", accuracy_score(ytdf,dctree_pred)*100) \n",
    "\n",
    "print(\"Report : \", classification_report(ytdf, dctree_pred))"
   ]
  },
  {
   "cell_type": "code",
   "execution_count": 24,
   "metadata": {},
   "outputs": [
    {
     "data": {
      "image/svg+xml": [
       "<?xml version=\"1.0\" encoding=\"UTF-8\" standalone=\"no\"?>\r\n",
       "<!DOCTYPE svg PUBLIC \"-//W3C//DTD SVG 1.1//EN\"\r\n",
       " \"http://www.w3.org/Graphics/SVG/1.1/DTD/svg11.dtd\">\r\n",
       "<!-- Generated by graphviz version 2.38.0 (20140413.2041)\r\n",
       " -->\r\n",
       "<!-- Title: Tree Pages: 1 -->\r\n",
       "<svg width=\"1089pt\" height=\"671pt\"\r\n",
       " viewBox=\"0.00 0.00 1089.00 671.00\" xmlns=\"http://www.w3.org/2000/svg\" xmlns:xlink=\"http://www.w3.org/1999/xlink\">\r\n",
       "<g id=\"graph0\" class=\"graph\" transform=\"scale(1 1) rotate(0) translate(4 667)\">\r\n",
       "<title>Tree</title>\r\n",
       "<polygon fill=\"white\" stroke=\"none\" points=\"-4,4 -4,-667 1085,-667 1085,4 -4,4\"/>\r\n",
       "<!-- 0 -->\r\n",
       "<g id=\"node1\" class=\"node\"><title>0</title>\r\n",
       "<polygon fill=\"#96cbf1\" stroke=\"black\" points=\"880,-663 755,-663 755,-580 880,-580 880,-663\"/>\r\n",
       "<text text-anchor=\"middle\" x=\"817.5\" y=\"-647.8\" font-family=\"Times New Roman,serif\" font-size=\"14.00\">Degree_low &lt;= 0.5</text>\r\n",
       "<text text-anchor=\"middle\" x=\"817.5\" y=\"-632.8\" font-family=\"Times New Roman,serif\" font-size=\"14.00\">gini = 0.435</text>\r\n",
       "<text text-anchor=\"middle\" x=\"817.5\" y=\"-617.8\" font-family=\"Times New Roman,serif\" font-size=\"14.00\">samples = 100</text>\r\n",
       "<text text-anchor=\"middle\" x=\"817.5\" y=\"-602.8\" font-family=\"Times New Roman,serif\" font-size=\"14.00\">value = [32, 68]</text>\r\n",
       "<text text-anchor=\"middle\" x=\"817.5\" y=\"-587.8\" font-family=\"Times New Roman,serif\" font-size=\"14.00\">class = no</text>\r\n",
       "</g>\r\n",
       "<!-- 1 -->\r\n",
       "<g id=\"node2\" class=\"node\"><title>1</title>\r\n",
       "<polygon fill=\"#7dbfee\" stroke=\"black\" points=\"782,-544 651,-544 651,-461 782,-461 782,-544\"/>\r\n",
       "<text text-anchor=\"middle\" x=\"716.5\" y=\"-528.8\" font-family=\"Times New Roman,serif\" font-size=\"14.00\">caprice_right &lt;= 0.5</text>\r\n",
       "<text text-anchor=\"middle\" x=\"716.5\" y=\"-513.8\" font-family=\"Times New Roman,serif\" font-size=\"14.00\">gini = 0.381</text>\r\n",
       "<text text-anchor=\"middle\" x=\"716.5\" y=\"-498.8\" font-family=\"Times New Roman,serif\" font-size=\"14.00\">samples = 86</text>\r\n",
       "<text text-anchor=\"middle\" x=\"716.5\" y=\"-483.8\" font-family=\"Times New Roman,serif\" font-size=\"14.00\">value = [22, 64]</text>\r\n",
       "<text text-anchor=\"middle\" x=\"716.5\" y=\"-468.8\" font-family=\"Times New Roman,serif\" font-size=\"14.00\">class = no</text>\r\n",
       "</g>\r\n",
       "<!-- 0&#45;&gt;1 -->\r\n",
       "<g id=\"edge1\" class=\"edge\"><title>0&#45;&gt;1</title>\r\n",
       "<path fill=\"none\" stroke=\"black\" d=\"M782.459,-579.907C774.624,-570.832 766.241,-561.121 758.169,-551.769\"/>\r\n",
       "<polygon fill=\"black\" stroke=\"black\" points=\"760.663,-549.303 751.48,-544.021 755.365,-553.878 760.663,-549.303\"/>\r\n",
       "<text text-anchor=\"middle\" x=\"749.65\" y=\"-565.254\" font-family=\"Times New Roman,serif\" font-size=\"14.00\">True</text>\r\n",
       "</g>\r\n",
       "<!-- 20 -->\r\n",
       "<g id=\"node21\" class=\"node\"><title>20</title>\r\n",
       "<polygon fill=\"#efb388\" stroke=\"black\" points=\"987,-544 850,-544 850,-461 987,-461 987,-544\"/>\r\n",
       "<text text-anchor=\"middle\" x=\"918.5\" y=\"-528.8\" font-family=\"Times New Roman,serif\" font-size=\"14.00\">topic_political &lt;= 0.5</text>\r\n",
       "<text text-anchor=\"middle\" x=\"918.5\" y=\"-513.8\" font-family=\"Times New Roman,serif\" font-size=\"14.00\">gini = 0.408</text>\r\n",
       "<text text-anchor=\"middle\" x=\"918.5\" y=\"-498.8\" font-family=\"Times New Roman,serif\" font-size=\"14.00\">samples = 14</text>\r\n",
       "<text text-anchor=\"middle\" x=\"918.5\" y=\"-483.8\" font-family=\"Times New Roman,serif\" font-size=\"14.00\">value = [10, 4]</text>\r\n",
       "<text text-anchor=\"middle\" x=\"918.5\" y=\"-468.8\" font-family=\"Times New Roman,serif\" font-size=\"14.00\">class = yes</text>\r\n",
       "</g>\r\n",
       "<!-- 0&#45;&gt;20 -->\r\n",
       "<g id=\"edge20\" class=\"edge\"><title>0&#45;&gt;20</title>\r\n",
       "<path fill=\"none\" stroke=\"black\" d=\"M852.541,-579.907C860.376,-570.832 868.759,-561.121 876.831,-551.769\"/>\r\n",
       "<polygon fill=\"black\" stroke=\"black\" points=\"879.635,-553.878 883.52,-544.021 874.337,-549.303 879.635,-553.878\"/>\r\n",
       "<text text-anchor=\"middle\" x=\"885.35\" y=\"-565.254\" font-family=\"Times New Roman,serif\" font-size=\"14.00\">False</text>\r\n",
       "</g>\r\n",
       "<!-- 2 -->\r\n",
       "<g id=\"node3\" class=\"node\"><title>2</title>\r\n",
       "<polygon fill=\"#57ace9\" stroke=\"black\" points=\"555,-425 412,-425 412,-342 555,-342 555,-425\"/>\r\n",
       "<text text-anchor=\"middle\" x=\"483.5\" y=\"-409.8\" font-family=\"Times New Roman,serif\" font-size=\"14.00\">topic_scientific &lt;= 0.5</text>\r\n",
       "<text text-anchor=\"middle\" x=\"483.5\" y=\"-394.8\" font-family=\"Times New Roman,serif\" font-size=\"14.00\">gini = 0.231</text>\r\n",
       "<text text-anchor=\"middle\" x=\"483.5\" y=\"-379.8\" font-family=\"Times New Roman,serif\" font-size=\"14.00\">samples = 60</text>\r\n",
       "<text text-anchor=\"middle\" x=\"483.5\" y=\"-364.8\" font-family=\"Times New Roman,serif\" font-size=\"14.00\">value = [8, 52]</text>\r\n",
       "<text text-anchor=\"middle\" x=\"483.5\" y=\"-349.8\" font-family=\"Times New Roman,serif\" font-size=\"14.00\">class = no</text>\r\n",
       "</g>\r\n",
       "<!-- 1&#45;&gt;2 -->\r\n",
       "<g id=\"edge2\" class=\"edge\"><title>1&#45;&gt;2</title>\r\n",
       "<path fill=\"none\" stroke=\"black\" d=\"M650.976,-468.598C624.013,-455.058 592.512,-439.24 564.151,-424.999\"/>\r\n",
       "<polygon fill=\"black\" stroke=\"black\" points=\"565.57,-421.795 555.063,-420.435 562.429,-428.05 565.57,-421.795\"/>\r\n",
       "</g>\r\n",
       "<!-- 13 -->\r\n",
       "<g id=\"node14\" class=\"node\"><title>13</title>\r\n",
       "<polygon fill=\"#fbede3\" stroke=\"black\" points=\"777.5,-425 655.5,-425 655.5,-342 777.5,-342 777.5,-425\"/>\r\n",
       "<text text-anchor=\"middle\" x=\"716.5\" y=\"-409.8\" font-family=\"Times New Roman,serif\" font-size=\"14.00\">topic_news &lt;= 0.5</text>\r\n",
       "<text text-anchor=\"middle\" x=\"716.5\" y=\"-394.8\" font-family=\"Times New Roman,serif\" font-size=\"14.00\">gini = 0.497</text>\r\n",
       "<text text-anchor=\"middle\" x=\"716.5\" y=\"-379.8\" font-family=\"Times New Roman,serif\" font-size=\"14.00\">samples = 26</text>\r\n",
       "<text text-anchor=\"middle\" x=\"716.5\" y=\"-364.8\" font-family=\"Times New Roman,serif\" font-size=\"14.00\">value = [14, 12]</text>\r\n",
       "<text text-anchor=\"middle\" x=\"716.5\" y=\"-349.8\" font-family=\"Times New Roman,serif\" font-size=\"14.00\">class = yes</text>\r\n",
       "</g>\r\n",
       "<!-- 1&#45;&gt;13 -->\r\n",
       "<g id=\"edge13\" class=\"edge\"><title>1&#45;&gt;13</title>\r\n",
       "<path fill=\"none\" stroke=\"black\" d=\"M716.5,-460.907C716.5,-452.649 716.5,-443.864 716.5,-435.302\"/>\r\n",
       "<polygon fill=\"black\" stroke=\"black\" points=\"720,-435.021 716.5,-425.021 713,-435.021 720,-435.021\"/>\r\n",
       "</g>\r\n",
       "<!-- 3 -->\r\n",
       "<g id=\"node4\" class=\"node\"><title>3</title>\r\n",
       "<polygon fill=\"#50a9e8\" stroke=\"black\" points=\"356,-306 255,-306 255,-223 356,-223 356,-306\"/>\r\n",
       "<text text-anchor=\"middle\" x=\"305.5\" y=\"-290.8\" font-family=\"Times New Roman,serif\" font-size=\"14.00\">lmt_yes &lt;= 0.5</text>\r\n",
       "<text text-anchor=\"middle\" x=\"305.5\" y=\"-275.8\" font-family=\"Times New Roman,serif\" font-size=\"14.00\">gini = 0.188</text>\r\n",
       "<text text-anchor=\"middle\" x=\"305.5\" y=\"-260.8\" font-family=\"Times New Roman,serif\" font-size=\"14.00\">samples = 57</text>\r\n",
       "<text text-anchor=\"middle\" x=\"305.5\" y=\"-245.8\" font-family=\"Times New Roman,serif\" font-size=\"14.00\">value = [6, 51]</text>\r\n",
       "<text text-anchor=\"middle\" x=\"305.5\" y=\"-230.8\" font-family=\"Times New Roman,serif\" font-size=\"14.00\">class = no</text>\r\n",
       "</g>\r\n",
       "<!-- 2&#45;&gt;3 -->\r\n",
       "<g id=\"edge3\" class=\"edge\"><title>2&#45;&gt;3</title>\r\n",
       "<path fill=\"none\" stroke=\"black\" d=\"M421.744,-341.907C403.364,-329.826 383.268,-316.617 365.033,-304.631\"/>\r\n",
       "<polygon fill=\"black\" stroke=\"black\" points=\"366.525,-301.424 356.246,-298.856 362.68,-307.273 366.525,-301.424\"/>\r\n",
       "</g>\r\n",
       "<!-- 10 -->\r\n",
       "<g id=\"node11\" class=\"node\"><title>10</title>\r\n",
       "<polygon fill=\"#f2c09c\" stroke=\"black\" points=\"537,-306 430,-306 430,-223 537,-223 537,-306\"/>\r\n",
       "<text text-anchor=\"middle\" x=\"483.5\" y=\"-290.8\" font-family=\"Times New Roman,serif\" font-size=\"14.00\">lpss_yes &lt;= 0.5</text>\r\n",
       "<text text-anchor=\"middle\" x=\"483.5\" y=\"-275.8\" font-family=\"Times New Roman,serif\" font-size=\"14.00\">gini = 0.444</text>\r\n",
       "<text text-anchor=\"middle\" x=\"483.5\" y=\"-260.8\" font-family=\"Times New Roman,serif\" font-size=\"14.00\">samples = 3</text>\r\n",
       "<text text-anchor=\"middle\" x=\"483.5\" y=\"-245.8\" font-family=\"Times New Roman,serif\" font-size=\"14.00\">value = [2, 1]</text>\r\n",
       "<text text-anchor=\"middle\" x=\"483.5\" y=\"-230.8\" font-family=\"Times New Roman,serif\" font-size=\"14.00\">class = yes</text>\r\n",
       "</g>\r\n",
       "<!-- 2&#45;&gt;10 -->\r\n",
       "<g id=\"edge10\" class=\"edge\"><title>2&#45;&gt;10</title>\r\n",
       "<path fill=\"none\" stroke=\"black\" d=\"M483.5,-341.907C483.5,-333.649 483.5,-324.864 483.5,-316.302\"/>\r\n",
       "<polygon fill=\"black\" stroke=\"black\" points=\"487,-316.021 483.5,-306.021 480,-316.021 487,-316.021\"/>\r\n",
       "</g>\r\n",
       "<!-- 4 -->\r\n",
       "<g id=\"node5\" class=\"node\"><title>4</title>\r\n",
       "<polygon fill=\"#7bbeee\" stroke=\"black\" points=\"213,-187 70,-187 70,-104 213,-104 213,-187\"/>\r\n",
       "<text text-anchor=\"middle\" x=\"141.5\" y=\"-171.8\" font-family=\"Times New Roman,serif\" font-size=\"14.00\">caprice_middle &lt;= 0.5</text>\r\n",
       "<text text-anchor=\"middle\" x=\"141.5\" y=\"-156.8\" font-family=\"Times New Roman,serif\" font-size=\"14.00\">gini = 0.375</text>\r\n",
       "<text text-anchor=\"middle\" x=\"141.5\" y=\"-141.8\" font-family=\"Times New Roman,serif\" font-size=\"14.00\">samples = 8</text>\r\n",
       "<text text-anchor=\"middle\" x=\"141.5\" y=\"-126.8\" font-family=\"Times New Roman,serif\" font-size=\"14.00\">value = [2, 6]</text>\r\n",
       "<text text-anchor=\"middle\" x=\"141.5\" y=\"-111.8\" font-family=\"Times New Roman,serif\" font-size=\"14.00\">class = no</text>\r\n",
       "</g>\r\n",
       "<!-- 3&#45;&gt;4 -->\r\n",
       "<g id=\"edge4\" class=\"edge\"><title>3&#45;&gt;4</title>\r\n",
       "<path fill=\"none\" stroke=\"black\" d=\"M254.956,-227.441C239.729,-216.578 222.795,-204.497 206.755,-193.054\"/>\r\n",
       "<polygon fill=\"black\" stroke=\"black\" points=\"208.635,-190.096 198.462,-187.137 204.57,-195.794 208.635,-190.096\"/>\r\n",
       "</g>\r\n",
       "<!-- 7 -->\r\n",
       "<g id=\"node8\" class=\"node\"><title>7</title>\r\n",
       "<polygon fill=\"#4ba6e7\" stroke=\"black\" points=\"380,-187 231,-187 231,-104 380,-104 380,-187\"/>\r\n",
       "<text text-anchor=\"middle\" x=\"305.5\" y=\"-171.8\" font-family=\"Times New Roman,serif\" font-size=\"14.00\">Degree_medium &lt;= 0.5</text>\r\n",
       "<text text-anchor=\"middle\" x=\"305.5\" y=\"-156.8\" font-family=\"Times New Roman,serif\" font-size=\"14.00\">gini = 0.15</text>\r\n",
       "<text text-anchor=\"middle\" x=\"305.5\" y=\"-141.8\" font-family=\"Times New Roman,serif\" font-size=\"14.00\">samples = 49</text>\r\n",
       "<text text-anchor=\"middle\" x=\"305.5\" y=\"-126.8\" font-family=\"Times New Roman,serif\" font-size=\"14.00\">value = [4, 45]</text>\r\n",
       "<text text-anchor=\"middle\" x=\"305.5\" y=\"-111.8\" font-family=\"Times New Roman,serif\" font-size=\"14.00\">class = no</text>\r\n",
       "</g>\r\n",
       "<!-- 3&#45;&gt;7 -->\r\n",
       "<g id=\"edge7\" class=\"edge\"><title>3&#45;&gt;7</title>\r\n",
       "<path fill=\"none\" stroke=\"black\" d=\"M305.5,-222.907C305.5,-214.649 305.5,-205.864 305.5,-197.302\"/>\r\n",
       "<polygon fill=\"black\" stroke=\"black\" points=\"309,-197.021 305.5,-187.021 302,-197.021 309,-197.021\"/>\r\n",
       "</g>\r\n",
       "<!-- 5 -->\r\n",
       "<g id=\"node6\" class=\"node\"><title>5</title>\r\n",
       "<polygon fill=\"#399de5\" stroke=\"black\" points=\"91,-68 0,-68 0,-0 91,-0 91,-68\"/>\r\n",
       "<text text-anchor=\"middle\" x=\"45.5\" y=\"-52.8\" font-family=\"Times New Roman,serif\" font-size=\"14.00\">gini = 0.0</text>\r\n",
       "<text text-anchor=\"middle\" x=\"45.5\" y=\"-37.8\" font-family=\"Times New Roman,serif\" font-size=\"14.00\">samples = 6</text>\r\n",
       "<text text-anchor=\"middle\" x=\"45.5\" y=\"-22.8\" font-family=\"Times New Roman,serif\" font-size=\"14.00\">value = [0, 6]</text>\r\n",
       "<text text-anchor=\"middle\" x=\"45.5\" y=\"-7.8\" font-family=\"Times New Roman,serif\" font-size=\"14.00\">class = no</text>\r\n",
       "</g>\r\n",
       "<!-- 4&#45;&gt;5 -->\r\n",
       "<g id=\"edge5\" class=\"edge\"><title>4&#45;&gt;5</title>\r\n",
       "<path fill=\"none\" stroke=\"black\" d=\"M105.753,-103.726C97.8368,-94.6966 89.4439,-85.1235 81.5168,-76.0816\"/>\r\n",
       "<polygon fill=\"black\" stroke=\"black\" points=\"83.9183,-73.5117 74.6942,-68.2996 78.6547,-78.1263 83.9183,-73.5117\"/>\r\n",
       "</g>\r\n",
       "<!-- 6 -->\r\n",
       "<g id=\"node7\" class=\"node\"><title>6</title>\r\n",
       "<polygon fill=\"#e58139\" stroke=\"black\" points=\"200,-68 109,-68 109,-0 200,-0 200,-68\"/>\r\n",
       "<text text-anchor=\"middle\" x=\"154.5\" y=\"-52.8\" font-family=\"Times New Roman,serif\" font-size=\"14.00\">gini = 0.0</text>\r\n",
       "<text text-anchor=\"middle\" x=\"154.5\" y=\"-37.8\" font-family=\"Times New Roman,serif\" font-size=\"14.00\">samples = 2</text>\r\n",
       "<text text-anchor=\"middle\" x=\"154.5\" y=\"-22.8\" font-family=\"Times New Roman,serif\" font-size=\"14.00\">value = [2, 0]</text>\r\n",
       "<text text-anchor=\"middle\" x=\"154.5\" y=\"-7.8\" font-family=\"Times New Roman,serif\" font-size=\"14.00\">class = yes</text>\r\n",
       "</g>\r\n",
       "<!-- 4&#45;&gt;6 -->\r\n",
       "<g id=\"edge6\" class=\"edge\"><title>4&#45;&gt;6</title>\r\n",
       "<path fill=\"none\" stroke=\"black\" d=\"M146.341,-103.726C147.326,-95.4263 148.366,-86.6671 149.361,-78.2834\"/>\r\n",
       "<polygon fill=\"black\" stroke=\"black\" points=\"152.843,-78.6425 150.547,-68.2996 145.892,-77.8172 152.843,-78.6425\"/>\r\n",
       "</g>\r\n",
       "<!-- 8 -->\r\n",
       "<g id=\"node9\" class=\"node\"><title>8</title>\r\n",
       "<polygon fill=\"#63b2ea\" stroke=\"black\" points=\"329.5,-68 231.5,-68 231.5,-0 329.5,-0 329.5,-68\"/>\r\n",
       "<text text-anchor=\"middle\" x=\"280.5\" y=\"-52.8\" font-family=\"Times New Roman,serif\" font-size=\"14.00\">gini = 0.287</text>\r\n",
       "<text text-anchor=\"middle\" x=\"280.5\" y=\"-37.8\" font-family=\"Times New Roman,serif\" font-size=\"14.00\">samples = 23</text>\r\n",
       "<text text-anchor=\"middle\" x=\"280.5\" y=\"-22.8\" font-family=\"Times New Roman,serif\" font-size=\"14.00\">value = [4, 19]</text>\r\n",
       "<text text-anchor=\"middle\" x=\"280.5\" y=\"-7.8\" font-family=\"Times New Roman,serif\" font-size=\"14.00\">class = no</text>\r\n",
       "</g>\r\n",
       "<!-- 7&#45;&gt;8 -->\r\n",
       "<g id=\"edge8\" class=\"edge\"><title>7&#45;&gt;8</title>\r\n",
       "<path fill=\"none\" stroke=\"black\" d=\"M296.191,-103.726C294.296,-95.4263 292.296,-86.6671 290.382,-78.2834\"/>\r\n",
       "<polygon fill=\"black\" stroke=\"black\" points=\"293.741,-77.2697 288.103,-68.2996 286.916,-78.8278 293.741,-77.2697\"/>\r\n",
       "</g>\r\n",
       "<!-- 9 -->\r\n",
       "<g id=\"node10\" class=\"node\"><title>9</title>\r\n",
       "<polygon fill=\"#399de5\" stroke=\"black\" points=\"445.5,-68 347.5,-68 347.5,-0 445.5,-0 445.5,-68\"/>\r\n",
       "<text text-anchor=\"middle\" x=\"396.5\" y=\"-52.8\" font-family=\"Times New Roman,serif\" font-size=\"14.00\">gini = 0.0</text>\r\n",
       "<text text-anchor=\"middle\" x=\"396.5\" y=\"-37.8\" font-family=\"Times New Roman,serif\" font-size=\"14.00\">samples = 26</text>\r\n",
       "<text text-anchor=\"middle\" x=\"396.5\" y=\"-22.8\" font-family=\"Times New Roman,serif\" font-size=\"14.00\">value = [0, 26]</text>\r\n",
       "<text text-anchor=\"middle\" x=\"396.5\" y=\"-7.8\" font-family=\"Times New Roman,serif\" font-size=\"14.00\">class = no</text>\r\n",
       "</g>\r\n",
       "<!-- 7&#45;&gt;9 -->\r\n",
       "<g id=\"edge9\" class=\"edge\"><title>7&#45;&gt;9</title>\r\n",
       "<path fill=\"none\" stroke=\"black\" d=\"M339.385,-103.726C346.889,-94.6966 354.845,-85.1235 362.359,-76.0816\"/>\r\n",
       "<polygon fill=\"black\" stroke=\"black\" points=\"365.127,-78.2275 368.826,-68.2996 359.743,-73.7534 365.127,-78.2275\"/>\r\n",
       "</g>\r\n",
       "<!-- 11 -->\r\n",
       "<g id=\"node12\" class=\"node\"><title>11</title>\r\n",
       "<polygon fill=\"#399de5\" stroke=\"black\" points=\"489,-179.5 398,-179.5 398,-111.5 489,-111.5 489,-179.5\"/>\r\n",
       "<text text-anchor=\"middle\" x=\"443.5\" y=\"-164.3\" font-family=\"Times New Roman,serif\" font-size=\"14.00\">gini = 0.0</text>\r\n",
       "<text text-anchor=\"middle\" x=\"443.5\" y=\"-149.3\" font-family=\"Times New Roman,serif\" font-size=\"14.00\">samples = 1</text>\r\n",
       "<text text-anchor=\"middle\" x=\"443.5\" y=\"-134.3\" font-family=\"Times New Roman,serif\" font-size=\"14.00\">value = [0, 1]</text>\r\n",
       "<text text-anchor=\"middle\" x=\"443.5\" y=\"-119.3\" font-family=\"Times New Roman,serif\" font-size=\"14.00\">class = no</text>\r\n",
       "</g>\r\n",
       "<!-- 10&#45;&gt;11 -->\r\n",
       "<g id=\"edge11\" class=\"edge\"><title>10&#45;&gt;11</title>\r\n",
       "<path fill=\"none\" stroke=\"black\" d=\"M469.622,-222.907C465.925,-212.094 461.919,-200.376 458.181,-189.441\"/>\r\n",
       "<polygon fill=\"black\" stroke=\"black\" points=\"461.386,-187.997 454.839,-179.667 454.762,-190.261 461.386,-187.997\"/>\r\n",
       "</g>\r\n",
       "<!-- 12 -->\r\n",
       "<g id=\"node13\" class=\"node\"><title>12</title>\r\n",
       "<polygon fill=\"#e58139\" stroke=\"black\" points=\"598,-179.5 507,-179.5 507,-111.5 598,-111.5 598,-179.5\"/>\r\n",
       "<text text-anchor=\"middle\" x=\"552.5\" y=\"-164.3\" font-family=\"Times New Roman,serif\" font-size=\"14.00\">gini = 0.0</text>\r\n",
       "<text text-anchor=\"middle\" x=\"552.5\" y=\"-149.3\" font-family=\"Times New Roman,serif\" font-size=\"14.00\">samples = 2</text>\r\n",
       "<text text-anchor=\"middle\" x=\"552.5\" y=\"-134.3\" font-family=\"Times New Roman,serif\" font-size=\"14.00\">value = [2, 0]</text>\r\n",
       "<text text-anchor=\"middle\" x=\"552.5\" y=\"-119.3\" font-family=\"Times New Roman,serif\" font-size=\"14.00\">class = yes</text>\r\n",
       "</g>\r\n",
       "<!-- 10&#45;&gt;12 -->\r\n",
       "<g id=\"edge12\" class=\"edge\"><title>10&#45;&gt;12</title>\r\n",
       "<path fill=\"none\" stroke=\"black\" d=\"M507.439,-222.907C514.012,-211.763 521.15,-199.658 527.767,-188.439\"/>\r\n",
       "<polygon fill=\"black\" stroke=\"black\" points=\"530.875,-190.059 532.94,-179.667 524.845,-186.503 530.875,-190.059\"/>\r\n",
       "</g>\r\n",
       "<!-- 14 -->\r\n",
       "<g id=\"node15\" class=\"node\"><title>14</title>\r\n",
       "<polygon fill=\"#deeffb\" stroke=\"black\" points=\"738,-306 595,-306 595,-223 738,-223 738,-306\"/>\r\n",
       "<text text-anchor=\"middle\" x=\"666.5\" y=\"-290.8\" font-family=\"Times New Roman,serif\" font-size=\"14.00\">topic_scientific &lt;= 0.5</text>\r\n",
       "<text text-anchor=\"middle\" x=\"666.5\" y=\"-275.8\" font-family=\"Times New Roman,serif\" font-size=\"14.00\">gini = 0.496</text>\r\n",
       "<text text-anchor=\"middle\" x=\"666.5\" y=\"-260.8\" font-family=\"Times New Roman,serif\" font-size=\"14.00\">samples = 22</text>\r\n",
       "<text text-anchor=\"middle\" x=\"666.5\" y=\"-245.8\" font-family=\"Times New Roman,serif\" font-size=\"14.00\">value = [10, 12]</text>\r\n",
       "<text text-anchor=\"middle\" x=\"666.5\" y=\"-230.8\" font-family=\"Times New Roman,serif\" font-size=\"14.00\">class = no</text>\r\n",
       "</g>\r\n",
       "<!-- 13&#45;&gt;14 -->\r\n",
       "<g id=\"edge14\" class=\"edge\"><title>13&#45;&gt;14</title>\r\n",
       "<path fill=\"none\" stroke=\"black\" d=\"M699.153,-341.907C695.507,-333.377 691.621,-324.284 687.849,-315.456\"/>\r\n",
       "<polygon fill=\"black\" stroke=\"black\" points=\"690.965,-313.841 683.817,-306.021 684.528,-316.592 690.965,-313.841\"/>\r\n",
       "</g>\r\n",
       "<!-- 19 -->\r\n",
       "<g id=\"node20\" class=\"node\"><title>19</title>\r\n",
       "<polygon fill=\"#e58139\" stroke=\"black\" points=\"847,-298.5 756,-298.5 756,-230.5 847,-230.5 847,-298.5\"/>\r\n",
       "<text text-anchor=\"middle\" x=\"801.5\" y=\"-283.3\" font-family=\"Times New Roman,serif\" font-size=\"14.00\">gini = 0.0</text>\r\n",
       "<text text-anchor=\"middle\" x=\"801.5\" y=\"-268.3\" font-family=\"Times New Roman,serif\" font-size=\"14.00\">samples = 4</text>\r\n",
       "<text text-anchor=\"middle\" x=\"801.5\" y=\"-253.3\" font-family=\"Times New Roman,serif\" font-size=\"14.00\">value = [4, 0]</text>\r\n",
       "<text text-anchor=\"middle\" x=\"801.5\" y=\"-238.3\" font-family=\"Times New Roman,serif\" font-size=\"14.00\">class = yes</text>\r\n",
       "</g>\r\n",
       "<!-- 13&#45;&gt;19 -->\r\n",
       "<g id=\"edge19\" class=\"edge\"><title>13&#45;&gt;19</title>\r\n",
       "<path fill=\"none\" stroke=\"black\" d=\"M745.99,-341.907C754.247,-330.542 763.229,-318.178 771.515,-306.774\"/>\r\n",
       "<polygon fill=\"black\" stroke=\"black\" points=\"774.358,-308.814 777.404,-298.667 768.695,-304.7 774.358,-308.814\"/>\r\n",
       "</g>\r\n",
       "<!-- 15 -->\r\n",
       "<g id=\"node16\" class=\"node\"><title>15</title>\r\n",
       "<polygon fill=\"#bddef6\" stroke=\"black\" points=\"717,-187 616,-187 616,-104 717,-104 717,-187\"/>\r\n",
       "<text text-anchor=\"middle\" x=\"666.5\" y=\"-171.8\" font-family=\"Times New Roman,serif\" font-size=\"14.00\">lmt_yes &lt;= 0.5</text>\r\n",
       "<text text-anchor=\"middle\" x=\"666.5\" y=\"-156.8\" font-family=\"Times New Roman,serif\" font-size=\"14.00\">gini = 0.48</text>\r\n",
       "<text text-anchor=\"middle\" x=\"666.5\" y=\"-141.8\" font-family=\"Times New Roman,serif\" font-size=\"14.00\">samples = 20</text>\r\n",
       "<text text-anchor=\"middle\" x=\"666.5\" y=\"-126.8\" font-family=\"Times New Roman,serif\" font-size=\"14.00\">value = [8, 12]</text>\r\n",
       "<text text-anchor=\"middle\" x=\"666.5\" y=\"-111.8\" font-family=\"Times New Roman,serif\" font-size=\"14.00\">class = no</text>\r\n",
       "</g>\r\n",
       "<!-- 14&#45;&gt;15 -->\r\n",
       "<g id=\"edge15\" class=\"edge\"><title>14&#45;&gt;15</title>\r\n",
       "<path fill=\"none\" stroke=\"black\" d=\"M666.5,-222.907C666.5,-214.649 666.5,-205.864 666.5,-197.302\"/>\r\n",
       "<polygon fill=\"black\" stroke=\"black\" points=\"670,-197.021 666.5,-187.021 663,-197.021 670,-197.021\"/>\r\n",
       "</g>\r\n",
       "<!-- 18 -->\r\n",
       "<g id=\"node19\" class=\"node\"><title>18</title>\r\n",
       "<polygon fill=\"#e58139\" stroke=\"black\" points=\"826,-179.5 735,-179.5 735,-111.5 826,-111.5 826,-179.5\"/>\r\n",
       "<text text-anchor=\"middle\" x=\"780.5\" y=\"-164.3\" font-family=\"Times New Roman,serif\" font-size=\"14.00\">gini = 0.0</text>\r\n",
       "<text text-anchor=\"middle\" x=\"780.5\" y=\"-149.3\" font-family=\"Times New Roman,serif\" font-size=\"14.00\">samples = 2</text>\r\n",
       "<text text-anchor=\"middle\" x=\"780.5\" y=\"-134.3\" font-family=\"Times New Roman,serif\" font-size=\"14.00\">value = [2, 0]</text>\r\n",
       "<text text-anchor=\"middle\" x=\"780.5\" y=\"-119.3\" font-family=\"Times New Roman,serif\" font-size=\"14.00\">class = yes</text>\r\n",
       "</g>\r\n",
       "<!-- 14&#45;&gt;18 -->\r\n",
       "<g id=\"edge18\" class=\"edge\"><title>14&#45;&gt;18</title>\r\n",
       "<path fill=\"none\" stroke=\"black\" d=\"M706.052,-222.907C717.341,-211.321 729.641,-198.698 740.931,-187.111\"/>\r\n",
       "<polygon fill=\"black\" stroke=\"black\" points=\"743.712,-189.272 748.183,-179.667 738.698,-184.387 743.712,-189.272\"/>\r\n",
       "</g>\r\n",
       "<!-- 16 -->\r\n",
       "<g id=\"node17\" class=\"node\"><title>16</title>\r\n",
       "<polygon fill=\"#e58139\" stroke=\"black\" points=\"655,-68 564,-68 564,-0 655,-0 655,-68\"/>\r\n",
       "<text text-anchor=\"middle\" x=\"609.5\" y=\"-52.8\" font-family=\"Times New Roman,serif\" font-size=\"14.00\">gini = 0.0</text>\r\n",
       "<text text-anchor=\"middle\" x=\"609.5\" y=\"-37.8\" font-family=\"Times New Roman,serif\" font-size=\"14.00\">samples = 2</text>\r\n",
       "<text text-anchor=\"middle\" x=\"609.5\" y=\"-22.8\" font-family=\"Times New Roman,serif\" font-size=\"14.00\">value = [2, 0]</text>\r\n",
       "<text text-anchor=\"middle\" x=\"609.5\" y=\"-7.8\" font-family=\"Times New Roman,serif\" font-size=\"14.00\">class = yes</text>\r\n",
       "</g>\r\n",
       "<!-- 15&#45;&gt;16 -->\r\n",
       "<g id=\"edge16\" class=\"edge\"><title>15&#45;&gt;16</title>\r\n",
       "<path fill=\"none\" stroke=\"black\" d=\"M645.275,-103.726C640.765,-95.0615 635.994,-85.8962 631.457,-77.1802\"/>\r\n",
       "<polygon fill=\"black\" stroke=\"black\" points=\"634.556,-75.5537 626.834,-68.2996 628.347,-78.7859 634.556,-75.5537\"/>\r\n",
       "</g>\r\n",
       "<!-- 17 -->\r\n",
       "<g id=\"node18\" class=\"node\"><title>17</title>\r\n",
       "<polygon fill=\"#9ccef2\" stroke=\"black\" points=\"771.5,-68 673.5,-68 673.5,-0 771.5,-0 771.5,-68\"/>\r\n",
       "<text text-anchor=\"middle\" x=\"722.5\" y=\"-52.8\" font-family=\"Times New Roman,serif\" font-size=\"14.00\">gini = 0.444</text>\r\n",
       "<text text-anchor=\"middle\" x=\"722.5\" y=\"-37.8\" font-family=\"Times New Roman,serif\" font-size=\"14.00\">samples = 18</text>\r\n",
       "<text text-anchor=\"middle\" x=\"722.5\" y=\"-22.8\" font-family=\"Times New Roman,serif\" font-size=\"14.00\">value = [6, 12]</text>\r\n",
       "<text text-anchor=\"middle\" x=\"722.5\" y=\"-7.8\" font-family=\"Times New Roman,serif\" font-size=\"14.00\">class = no</text>\r\n",
       "</g>\r\n",
       "<!-- 15&#45;&gt;17 -->\r\n",
       "<g id=\"edge17\" class=\"edge\"><title>15&#45;&gt;17</title>\r\n",
       "<path fill=\"none\" stroke=\"black\" d=\"M687.352,-103.726C691.737,-95.1527 696.372,-86.0891 700.788,-77.4555\"/>\r\n",
       "<polygon fill=\"black\" stroke=\"black\" points=\"704.033,-78.7965 705.47,-68.2996 697.801,-75.6092 704.033,-78.7965\"/>\r\n",
       "</g>\r\n",
       "<!-- 21 -->\r\n",
       "<g id=\"node22\" class=\"node\"><title>21</title>\r\n",
       "<polygon fill=\"#ea9a61\" stroke=\"black\" points=\"969,-425 868,-425 868,-342 969,-342 969,-425\"/>\r\n",
       "<text text-anchor=\"middle\" x=\"918.5\" y=\"-409.8\" font-family=\"Times New Roman,serif\" font-size=\"14.00\">lmt_yes &lt;= 0.5</text>\r\n",
       "<text text-anchor=\"middle\" x=\"918.5\" y=\"-394.8\" font-family=\"Times New Roman,serif\" font-size=\"14.00\">gini = 0.278</text>\r\n",
       "<text text-anchor=\"middle\" x=\"918.5\" y=\"-379.8\" font-family=\"Times New Roman,serif\" font-size=\"14.00\">samples = 12</text>\r\n",
       "<text text-anchor=\"middle\" x=\"918.5\" y=\"-364.8\" font-family=\"Times New Roman,serif\" font-size=\"14.00\">value = [10, 2]</text>\r\n",
       "<text text-anchor=\"middle\" x=\"918.5\" y=\"-349.8\" font-family=\"Times New Roman,serif\" font-size=\"14.00\">class = yes</text>\r\n",
       "</g>\r\n",
       "<!-- 20&#45;&gt;21 -->\r\n",
       "<g id=\"edge21\" class=\"edge\"><title>20&#45;&gt;21</title>\r\n",
       "<path fill=\"none\" stroke=\"black\" d=\"M918.5,-460.907C918.5,-452.649 918.5,-443.864 918.5,-435.302\"/>\r\n",
       "<polygon fill=\"black\" stroke=\"black\" points=\"922,-435.021 918.5,-425.021 915,-435.021 922,-435.021\"/>\r\n",
       "</g>\r\n",
       "<!-- 26 -->\r\n",
       "<g id=\"node27\" class=\"node\"><title>26</title>\r\n",
       "<polygon fill=\"#399de5\" stroke=\"black\" points=\"1078,-417.5 987,-417.5 987,-349.5 1078,-349.5 1078,-417.5\"/>\r\n",
       "<text text-anchor=\"middle\" x=\"1032.5\" y=\"-402.3\" font-family=\"Times New Roman,serif\" font-size=\"14.00\">gini = 0.0</text>\r\n",
       "<text text-anchor=\"middle\" x=\"1032.5\" y=\"-387.3\" font-family=\"Times New Roman,serif\" font-size=\"14.00\">samples = 2</text>\r\n",
       "<text text-anchor=\"middle\" x=\"1032.5\" y=\"-372.3\" font-family=\"Times New Roman,serif\" font-size=\"14.00\">value = [0, 2]</text>\r\n",
       "<text text-anchor=\"middle\" x=\"1032.5\" y=\"-357.3\" font-family=\"Times New Roman,serif\" font-size=\"14.00\">class = no</text>\r\n",
       "</g>\r\n",
       "<!-- 20&#45;&gt;26 -->\r\n",
       "<g id=\"edge26\" class=\"edge\"><title>20&#45;&gt;26</title>\r\n",
       "<path fill=\"none\" stroke=\"black\" d=\"M958.052,-460.907C969.341,-449.321 981.641,-436.698 992.931,-425.111\"/>\r\n",
       "<polygon fill=\"black\" stroke=\"black\" points=\"995.712,-427.272 1000.18,-417.667 990.698,-422.387 995.712,-427.272\"/>\r\n",
       "</g>\r\n",
       "<!-- 22 -->\r\n",
       "<g id=\"node23\" class=\"node\"><title>22</title>\r\n",
       "<polygon fill=\"#ffffff\" stroke=\"black\" points=\"972,-306 865,-306 865,-223 972,-223 972,-306\"/>\r\n",
       "<text text-anchor=\"middle\" x=\"918.5\" y=\"-290.8\" font-family=\"Times New Roman,serif\" font-size=\"14.00\">lpss_yes &lt;= 0.5</text>\r\n",
       "<text text-anchor=\"middle\" x=\"918.5\" y=\"-275.8\" font-family=\"Times New Roman,serif\" font-size=\"14.00\">gini = 0.5</text>\r\n",
       "<text text-anchor=\"middle\" x=\"918.5\" y=\"-260.8\" font-family=\"Times New Roman,serif\" font-size=\"14.00\">samples = 4</text>\r\n",
       "<text text-anchor=\"middle\" x=\"918.5\" y=\"-245.8\" font-family=\"Times New Roman,serif\" font-size=\"14.00\">value = [2, 2]</text>\r\n",
       "<text text-anchor=\"middle\" x=\"918.5\" y=\"-230.8\" font-family=\"Times New Roman,serif\" font-size=\"14.00\">class = yes</text>\r\n",
       "</g>\r\n",
       "<!-- 21&#45;&gt;22 -->\r\n",
       "<g id=\"edge22\" class=\"edge\"><title>21&#45;&gt;22</title>\r\n",
       "<path fill=\"none\" stroke=\"black\" d=\"M918.5,-341.907C918.5,-333.649 918.5,-324.864 918.5,-316.302\"/>\r\n",
       "<polygon fill=\"black\" stroke=\"black\" points=\"922,-316.021 918.5,-306.021 915,-316.021 922,-316.021\"/>\r\n",
       "</g>\r\n",
       "<!-- 25 -->\r\n",
       "<g id=\"node26\" class=\"node\"><title>25</title>\r\n",
       "<polygon fill=\"#e58139\" stroke=\"black\" points=\"1081,-298.5 990,-298.5 990,-230.5 1081,-230.5 1081,-298.5\"/>\r\n",
       "<text text-anchor=\"middle\" x=\"1035.5\" y=\"-283.3\" font-family=\"Times New Roman,serif\" font-size=\"14.00\">gini = 0.0</text>\r\n",
       "<text text-anchor=\"middle\" x=\"1035.5\" y=\"-268.3\" font-family=\"Times New Roman,serif\" font-size=\"14.00\">samples = 8</text>\r\n",
       "<text text-anchor=\"middle\" x=\"1035.5\" y=\"-253.3\" font-family=\"Times New Roman,serif\" font-size=\"14.00\">value = [8, 0]</text>\r\n",
       "<text text-anchor=\"middle\" x=\"1035.5\" y=\"-238.3\" font-family=\"Times New Roman,serif\" font-size=\"14.00\">class = yes</text>\r\n",
       "</g>\r\n",
       "<!-- 21&#45;&gt;25 -->\r\n",
       "<g id=\"edge25\" class=\"edge\"><title>21&#45;&gt;25</title>\r\n",
       "<path fill=\"none\" stroke=\"black\" d=\"M959.093,-341.907C970.789,-330.211 983.543,-317.457 995.22,-305.78\"/>\r\n",
       "<polygon fill=\"black\" stroke=\"black\" points=\"997.737,-308.213 1002.33,-298.667 992.787,-303.263 997.737,-308.213\"/>\r\n",
       "</g>\r\n",
       "<!-- 23 -->\r\n",
       "<g id=\"node24\" class=\"node\"><title>23</title>\r\n",
       "<polygon fill=\"#399de5\" stroke=\"black\" points=\"950,-179.5 859,-179.5 859,-111.5 950,-111.5 950,-179.5\"/>\r\n",
       "<text text-anchor=\"middle\" x=\"904.5\" y=\"-164.3\" font-family=\"Times New Roman,serif\" font-size=\"14.00\">gini = 0.0</text>\r\n",
       "<text text-anchor=\"middle\" x=\"904.5\" y=\"-149.3\" font-family=\"Times New Roman,serif\" font-size=\"14.00\">samples = 2</text>\r\n",
       "<text text-anchor=\"middle\" x=\"904.5\" y=\"-134.3\" font-family=\"Times New Roman,serif\" font-size=\"14.00\">value = [0, 2]</text>\r\n",
       "<text text-anchor=\"middle\" x=\"904.5\" y=\"-119.3\" font-family=\"Times New Roman,serif\" font-size=\"14.00\">class = no</text>\r\n",
       "</g>\r\n",
       "<!-- 22&#45;&gt;23 -->\r\n",
       "<g id=\"edge23\" class=\"edge\"><title>22&#45;&gt;23</title>\r\n",
       "<path fill=\"none\" stroke=\"black\" d=\"M913.643,-222.907C912.362,-212.204 910.975,-200.615 909.678,-189.776\"/>\r\n",
       "<polygon fill=\"black\" stroke=\"black\" points=\"913.132,-189.18 908.469,-179.667 906.182,-190.012 913.132,-189.18\"/>\r\n",
       "</g>\r\n",
       "<!-- 24 -->\r\n",
       "<g id=\"node25\" class=\"node\"><title>24</title>\r\n",
       "<polygon fill=\"#e58139\" stroke=\"black\" points=\"1059,-179.5 968,-179.5 968,-111.5 1059,-111.5 1059,-179.5\"/>\r\n",
       "<text text-anchor=\"middle\" x=\"1013.5\" y=\"-164.3\" font-family=\"Times New Roman,serif\" font-size=\"14.00\">gini = 0.0</text>\r\n",
       "<text text-anchor=\"middle\" x=\"1013.5\" y=\"-149.3\" font-family=\"Times New Roman,serif\" font-size=\"14.00\">samples = 2</text>\r\n",
       "<text text-anchor=\"middle\" x=\"1013.5\" y=\"-134.3\" font-family=\"Times New Roman,serif\" font-size=\"14.00\">value = [2, 0]</text>\r\n",
       "<text text-anchor=\"middle\" x=\"1013.5\" y=\"-119.3\" font-family=\"Times New Roman,serif\" font-size=\"14.00\">class = yes</text>\r\n",
       "</g>\r\n",
       "<!-- 22&#45;&gt;24 -->\r\n",
       "<g id=\"edge24\" class=\"edge\"><title>22&#45;&gt;24</title>\r\n",
       "<path fill=\"none\" stroke=\"black\" d=\"M951.46,-222.907C960.778,-211.432 970.922,-198.938 980.257,-187.442\"/>\r\n",
       "<polygon fill=\"black\" stroke=\"black\" points=\"982.983,-189.636 986.57,-179.667 977.549,-185.224 982.983,-189.636\"/>\r\n",
       "</g>\r\n",
       "</g>\r\n",
       "</svg>\r\n"
      ],
      "text/plain": [
       "<graphviz.files.Source at 0x28402ffc48>"
      ]
     },
     "execution_count": 24,
     "metadata": {},
     "output_type": "execute_result"
    },
    {
     "data": {
      "image/png": "[encoded data removed]",
      "text/plain": [
       "<Figure size 200x200 with 1 Axes>"
      ]
     },
     "metadata": {},
     "output_type": "display_data"
    }
   ],
   "source": [
    "fn=['Degree_low', 'Degree_medium', 'caprice_middle', 'caprice_right', 'topic_news', 'topic_political','topic_scientific','topic_tourism', 'lmt_yes', 'lpss_yes']\n",
    "cn=['yes', 'no']\n",
    "\n",
    "import graphviz\n",
    "# DOT data\n",
    "\n",
    "fig, axes = plt.subplots(nrows = 1,ncols = 1,figsize = (2,2), dpi=100)\n",
    "dot_data = tree.export_graphviz(dtree, out_file=None, \n",
    "                                feature_names=fn,  \n",
    "                                class_names=cn,\n",
    "                                filled=True)\n",
    "\n",
    "# Draw graph\n",
    "graph = graphviz.Source(dot_data, format=\"png\") \n",
    "graph"
   ]
  },
  {
   "cell_type": "code",
   "execution_count": null,
   "metadata": {},
   "outputs": [],
   "source": []
  }
 ],
 "metadata": {
  "kernelspec": {
   "display_name": "Python 3",
   "language": "python",
   "name": "python3"
  },
  "language_info": {
   "codemirror_mode": {
    "name": "ipython",
    "version": 3
   },
   "file_extension": ".py",
   "mimetype": "text/x-python",
   "name": "python",
   "nbconvert_exporter": "python",
   "pygments_lexer": "ipython3",
   "version": "3.7.6"
  }
 },
 "nbformat": 4,
 "nbformat_minor": 4
}
